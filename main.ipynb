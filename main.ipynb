{
 "cells": [
  {
   "cell_type": "code",
   "execution_count": 1,
   "metadata": {},
   "outputs": [
    {
     "name": "stderr",
     "output_type": "stream",
     "text": [
      "C system headers (glibc/Xcode/Windows SDK) must be installed.\n",
      "In file included from input_line_4:36:\n",
      "/home/vkholoim/micromamba/envs/agc/bin/../lib/gcc/x86_64-conda-linux-gnu/12.3.0/include/c++/cassert:44:10: fatal error: 'assert.h' file not found\n",
      "#include <assert.h>\n",
      "         ^~~~~~~~~~\n",
      "input_line_35:1:10: fatal error: 'dlfcn.h' file not found\n",
      "#include \"dlfcn.h\"\n",
      "         ^~~~~~~~~\n",
      "In file included from input_line_45:1:\n",
      "/home/vkholoim/micromamba/envs/agc/include/CPyCppyy/API.h:15:10: fatal error: 'stdio.h' file not found\n",
      "#include <stdio.h>\n",
      "         ^~~~~~~~~\n"
     ]
    },
    {
     "ename": "TypeError",
     "evalue": "no python-side overrides supported (failed to include Python.h)",
     "output_type": "error",
     "traceback": [
      "\u001b[0;31m---------------------------------------------------------------------------\u001b[0m",
      "\u001b[0;31mTypeError\u001b[0m                                 Traceback (most recent call last)",
      "Cell \u001b[0;32mIn[1], line 2\u001b[0m\n\u001b[1;32m      1\u001b[0m \u001b[38;5;28;01mimport\u001b[39;00m \u001b[38;5;21;01mROOT\u001b[39;00m\n\u001b[0;32m----> 2\u001b[0m \u001b[38;5;28;01mfrom\u001b[39;00m \u001b[38;5;21;01mroot_utils_v2\u001b[39;00m \u001b[38;5;28;01mimport\u001b[39;00m AGC_Sample, RebinningTool, MuteTool\n",
      "File \u001b[0;32m/shared/vkholoim/agc_root_inter/cms_ttbar_analysis/root_utils_v2.py:4\u001b[0m\n\u001b[1;32m      1\u001b[0m \u001b[38;5;28;01mimport\u001b[39;00m \u001b[38;5;21;01mROOT\u001b[39;00m\n\u001b[1;32m      2\u001b[0m \u001b[38;5;28;01mimport\u001b[39;00m \u001b[38;5;21;01mmath\u001b[39;00m\n\u001b[0;32m----> 4\u001b[0m \u001b[38;5;28;43;01mclass\u001b[39;49;00m\u001b[43m \u001b[49m\u001b[38;5;21;43;01mAGC_Sample\u001b[39;49;00m\u001b[43m(\u001b[49m\u001b[43mROOT\u001b[49m\u001b[38;5;241;43m.\u001b[39;49m\u001b[43mRooStats\u001b[49m\u001b[38;5;241;43m.\u001b[39;49m\u001b[43mHistFactory\u001b[49m\u001b[38;5;241;43m.\u001b[39;49m\u001b[43mSample\u001b[49m\u001b[43m)\u001b[49m\u001b[43m:\u001b[49m\n\u001b[1;32m      5\u001b[0m \u001b[43m    \u001b[49m\u001b[38;5;28;43;01mdef\u001b[39;49;00m\u001b[43m \u001b[49m\u001b[38;5;21;43m__init__\u001b[39;49m\u001b[43m(\u001b[49m\u001b[38;5;28;43mself\u001b[39;49m\u001b[43m,\u001b[49m\u001b[43m \u001b[49m\u001b[43mname\u001b[49m\u001b[43m,\u001b[49m\u001b[43m \u001b[49m\u001b[43mhisto_name\u001b[49m\u001b[43m,\u001b[49m\u001b[43m \u001b[49m\u001b[43mhisto_file\u001b[49m\u001b[43m,\u001b[49m\u001b[43m \u001b[49m\u001b[43mhisto_path\u001b[49m\u001b[43m \u001b[49m\u001b[38;5;241;43m=\u001b[39;49m\u001b[43m \u001b[49m\u001b[38;5;124;43m\"\u001b[39;49m\u001b[38;5;124;43m\"\u001b[39;49m\u001b[43m)\u001b[49m\u001b[43m:\u001b[49m\n\u001b[1;32m      6\u001b[0m \u001b[43m        \u001b[49m\u001b[43mROOT\u001b[49m\u001b[38;5;241;43m.\u001b[39;49m\u001b[43mRooStats\u001b[49m\u001b[38;5;241;43m.\u001b[39;49m\u001b[43mHistFactory\u001b[49m\u001b[38;5;241;43m.\u001b[39;49m\u001b[43mSample\u001b[49m\u001b[38;5;241;43m.\u001b[39;49m\u001b[38;5;21;43m__init__\u001b[39;49m\u001b[43m(\u001b[49m\u001b[38;5;28;43mself\u001b[39;49m\u001b[43m,\u001b[49m\u001b[43m \u001b[49m\u001b[43mname\u001b[49m\u001b[43m,\u001b[49m\u001b[43m \u001b[49m\u001b[43mhisto_name\u001b[49m\u001b[43m,\u001b[49m\u001b[43m \u001b[49m\u001b[43mhisto_file\u001b[49m\u001b[43m,\u001b[49m\u001b[43m \u001b[49m\u001b[43mhisto_path\u001b[49m\u001b[43m)\u001b[49m\n",
      "\u001b[0;31mTypeError\u001b[0m: no python-side overrides supported (failed to include Python.h)"
     ]
    }
   ],
   "source": [
    "import ROOT\n",
    "from root_utils_v2 import AGC_Sample, RebinningTool, MuteTool"
   ]
  },
  {
   "cell_type": "code",
   "execution_count": null,
   "metadata": {},
   "outputs": [],
   "source": [
    "MuteTool() # Mute all the messages from minimizer"
   ]
  },
  {
   "cell_type": "code",
   "execution_count": null,
   "metadata": {},
   "outputs": [],
   "source": [
    "rebinning_tool = RebinningTool() # Rebinning as extra step (was discussed with Jonas)\n",
    "rebinning_tool.set_xmin(110)\n",
    "rebinning_tool.set_rebin(2)\n",
    "rebinning_tool.set_input_path(\"data/histograms.root\")\n",
    "rebinning_tool.set_output_path(\"data/temp_histos.root\") # if you dont specify this -> overwrite (?)\n",
    "rebinning_tool.apply_rebinning()"
   ]
  },
  {
   "cell_type": "code",
   "execution_count": null,
   "metadata": {},
   "outputs": [],
   "source": [
    "file = ROOT.TFile(\"ROOT_AGC_Utils/HistFactoryExtra.root\", \"RECREATE\") # should be hidden. Cleaning the file\n",
    "file.Close() # create separate file for each file -> two much files\n",
    "\n",
    "input_file = \"data/temp_histos.root\" # input file for futher defined histograms"
   ]
  },
  {
   "cell_type": "code",
   "execution_count": null,
   "metadata": {},
   "outputs": [],
   "source": [
    "meas = ROOT.RooStats.HistFactory.Measurement(\"meas\", \"meas\")\n",
    "meas.SetLumi(1.0)\n",
    "meas.SetLumiRelErr(0.0)\n",
    "\n",
    "# ! main difference\n",
    "lumi_systematics = ROOT.RooStats.HistFactory.OverallSys() # we define it one time -> dont need to redefine it\n",
    "lumi_systematics.SetName(\"Lumi\")\n",
    "lumi_systematics.SetLow(0.97)\n",
    "lumi_systematics.SetHigh(1.03)"
   ]
  },
  {
   "cell_type": "code",
   "execution_count": null,
   "metadata": {},
   "outputs": [
    {
     "ename": "",
     "evalue": "",
     "output_type": "error",
     "traceback": [
      "\u001b[1;31mThe Kernel crashed while executing code in the current cell or a previous cell. \n",
      "\u001b[1;31mPlease review the code in the cell(s) to identify a possible cause of the failure. \n",
      "\u001b[1;31mClick <a href='https://aka.ms/vscodeJupyterKernelCrash'>here</a> for more info. \n",
      "\u001b[1;31mView Jupyter <a href='command:jupyter.viewOutput'>log</a> for further details."
     ]
    }
   ],
   "source": [
    "channel = ROOT.RooStats.HistFactory.Channel(\"channel_4j1b_CR\")\n",
    "channel.SetData(\"4j1b_pseudodata\", input_file)\n",
    "channel.SetStatErrorConfig(0.001, \"Gaussian\")\n",
    "\n",
    "ttbar = AGC_Sample(\"ttbar\", \"4j1b_ttbar\", input_file)\n",
    "ttbar.SetSystematicsInputFile(input_file)   # if use SetInputFile -> change input file for nominal histogram \n",
    "                                            # we can put input file from sample data definition as default\n",
    "\n",
    "ttbar.AddOverallSys(lumi_systematics)\n",
    "ttbar.ActivateStatError() # ROOT does not have DisableStatError() method, so we have to keep this :(\n",
    "ttbar.AddNormPlusShapeHistoSys(\"ME_variation\",      histoname_up = \"4j1b_ttbar_ME_var\"                                                          ) # \"histogram_up\" can be skipped here\n",
    "ttbar.AddNormPlusShapeHistoSys(\"PS_variation\",      histoname_up = \"4j1b_ttbar_PS_var\"                                                          ) # histogram path is specified as \"\" in default case\n",
    "ttbar.AddNormPlusShapeHistoSys(\"tt_scale_var\",      histoname_up = \"4j1b_ttbar_scaleup\",        histoname_down = \"4j1b_ttbar_scaledown\"         )\n",
    "ttbar.AddNormPlusShapeHistoSys(\"jet_energy_scale\",  histoname_up = \"4j1b_ttbar_pt_scale_up\"                                                     )\n",
    "ttbar.AddNormPlusShapeHistoSys(\"jet_energy_res\",    histoname_up = \"4j1b_ttbar_pt_res_up\"                                                       )\n",
    "ttbar.AddNormPlusShapeHistoSys(\"b_tag_NP_1\",        histoname_up = \"4j1b_ttbar_btag_var_0_up\",  histoname_down = \"4j1b_ttbar_btag_var_0_down\"   )\n",
    "ttbar.AddNormPlusShapeHistoSys(\"b_tag_NP_2\",        histoname_up = \"4j1b_ttbar_btag_var_1_up\",  histoname_down = \"4j1b_ttbar_btag_var_1_down\"   )\n",
    "ttbar.AddNormPlusShapeHistoSys(\"b_tag_NP_3\",        histoname_up = \"4j1b_ttbar_btag_var_2_up\",  histoname_down = \"4j1b_ttbar_btag_var_2_down\"   )\n",
    "ttbar.AddNormPlusShapeHistoSys(\"b_tag_NP_4\",        histoname_up = \"4j1b_ttbar_btag_var_3_up\",  histoname_down = \"4j1b_ttbar_btag_var_3_down\"   )\n",
    "ttbar.AddNormFactor(\"ttbar_norm\", 1, 0, 10)\n",
    "channel.AddSample(ttbar)\n",
    "\n",
    "wjets = AGC_Sample(\"wjets\", \"4j1b_wjets\", input_file)\n",
    "wjets.SetSystematicsInputFile(input_file)\n",
    "wjets.ActivateStatError()\n",
    "wjets.AddOverallSys(lumi_systematics)\n",
    "wjets.AddNormPlusShapeHistoSys(\"jet_energy_scale\",      histoname_up = \"4j1b_wjets_pt_scale_up\"                                                     )\n",
    "wjets.AddNormPlusShapeHistoSys(\"jet_energy_res\",        histoname_up = \"4j1b_wjets_pt_res_up\"                                                       )\n",
    "wjets.AddNormPlusShapeHistoSys(\"b_tag_NP_1\",            histoname_up = \"4j1b_wjets_btag_var_0_up\",  histoname_down = \"4j1b_wjets_btag_var_0_down\"   )\n",
    "wjets.AddNormPlusShapeHistoSys(\"b_tag_NP_2\",            histoname_up = \"4j1b_wjets_btag_var_1_up\",  histoname_down = \"4j1b_wjets_btag_var_1_down\"   )\n",
    "wjets.AddNormPlusShapeHistoSys(\"b_tag_NP_3\",            histoname_up = \"4j1b_wjets_btag_var_2_up\",  histoname_down = \"4j1b_wjets_btag_var_2_down\"   )\n",
    "wjets.AddNormPlusShapeHistoSys(\"b_tag_NP_4\",            histoname_up = \"4j1b_wjets_btag_var_3_up\",  histoname_down = \"4j1b_wjets_btag_var_3_down\"   )\n",
    "wjets.AddNormPlusShapeHistoSys(\"w_plus_jets_scale_var\", histoname_up = \"4j1b_wjets_scale_var_up\",   histoname_down = \"4j1b_wjets_scale_var_down\"    )\n",
    "channel.AddSample(wjets)\n",
    "\n",
    "single_top_s_chan = AGC_Sample(\"single_top_s\", \"4j1b_single_top_s_chan\", input_file)\n",
    "single_top_s_chan.SetSystematicsInputFile(input_file)\n",
    "single_top_s_chan.ActivateStatError()\n",
    "single_top_s_chan.AddOverallSys(lumi_systematics)\n",
    "single_top_s_chan.AddNormPlusShapeHistoSys(\"jet_energy_scale\",  histoname_up = \"4j1b_single_top_s_chan_pt_scale_up\"                                                                 )\n",
    "single_top_s_chan.AddNormPlusShapeHistoSys(\"jet_energy_res\",    histoname_up = \"4j1b_single_top_s_chan_pt_res_up\"                                                                   )\n",
    "single_top_s_chan.AddNormPlusShapeHistoSys(\"b_tag_NP_1\",        histoname_up = \"4j1b_single_top_s_chan_btag_var_0_up\",  histoname_down = \"4j1b_single_top_s_chan_btag_var_0_down\"   )\n",
    "single_top_s_chan.AddNormPlusShapeHistoSys(\"b_tag_NP_2\",        histoname_up = \"4j1b_single_top_s_chan_btag_var_1_up\",  histoname_down = \"4j1b_single_top_s_chan_btag_var_1_down\"   )\n",
    "single_top_s_chan.AddNormPlusShapeHistoSys(\"b_tag_NP_3\",        histoname_up = \"4j1b_single_top_s_chan_btag_var_2_up\",  histoname_down = \"4j1b_single_top_s_chan_btag_var_2_down\"   )\n",
    "single_top_s_chan.AddNormPlusShapeHistoSys(\"b_tag_NP_4\",        histoname_up = \"4j1b_single_top_s_chan_btag_var_3_up\",  histoname_down = \"4j1b_single_top_s_chan_btag_var_3_down\"   )\n",
    "\n",
    "channel.AddSample(single_top_s_chan)\n",
    "\n",
    "single_top_t_chan = AGC_Sample(\"single_top_t\", \"4j1b_single_top_t_chan\", input_file)\n",
    "single_top_t_chan.SetSystematicsInputFile(input_file)\n",
    "single_top_t_chan.ActivateStatError()\n",
    "single_top_t_chan.AddOverallSys(lumi_systematics)\n",
    "single_top_t_chan.AddNormPlusShapeHistoSys(\"jet_energy_scale\",  histoname_up = \"4j1b_single_top_t_chan_pt_scale_up\"                                                              )\n",
    "single_top_t_chan.AddNormPlusShapeHistoSys(\"jet_energy_res\",    histoname_up = \"4j1b_single_top_t_chan_pt_res_up\"                                                                )\n",
    "single_top_t_chan.AddNormPlusShapeHistoSys(\"b_tag_NP_1\",        histoname_up = \"4j1b_single_top_t_chan_btag_var_0_up\",  histoname_down = \"4j1b_single_top_t_chan_btag_var_0_down\")\n",
    "single_top_t_chan.AddNormPlusShapeHistoSys(\"b_tag_NP_2\",        histoname_up = \"4j1b_single_top_t_chan_btag_var_1_up\",  histoname_down = \"4j1b_single_top_t_chan_btag_var_1_down\")\n",
    "single_top_t_chan.AddNormPlusShapeHistoSys(\"b_tag_NP_3\",        histoname_up = \"4j1b_single_top_t_chan_btag_var_2_up\",  histoname_down = \"4j1b_single_top_t_chan_btag_var_2_down\")\n",
    "single_top_t_chan.AddNormPlusShapeHistoSys(\"b_tag_NP_4\",        histoname_up = \"4j1b_single_top_t_chan_btag_var_3_up\",  histoname_down = \"4j1b_single_top_t_chan_btag_var_3_down\")\n",
    "\n",
    "channel.AddSample(single_top_t_chan)\n",
    "\n",
    "single_top_tW = AGC_Sample(\"single_top_tW\", \"4j1b_single_top_tW\", input_file)\n",
    "single_top_tW.SetSystematicsInputFile(input_file)\n",
    "single_top_tW.ActivateStatError()\n",
    "single_top_tW.AddOverallSys(lumi_systematics)\n",
    "single_top_tW.AddNormPlusShapeHistoSys(\"jet_energy_scale\",  histoname_up = \"4j1b_single_top_tW_pt_scale_up\"                                                                 )\n",
    "single_top_tW.AddNormPlusShapeHistoSys(\"jet_energy_res\",    histoname_up =  \"4j1b_single_top_tW_pt_res_up\"                                                                  )               \n",
    "single_top_tW.AddNormPlusShapeHistoSys(\"b_tag_NP_1\",        histoname_up = \"4j1b_single_top_tW_btag_var_0_up\",      histoname_down = \"4j1b_single_top_tW_btag_var_0_down\"   )\n",
    "single_top_tW.AddNormPlusShapeHistoSys(\"b_tag_NP_2\",        histoname_up = \"4j1b_single_top_tW_btag_var_1_up\",      histoname_down = \"4j1b_single_top_tW_btag_var_1_down\"   )\n",
    "single_top_tW.AddNormPlusShapeHistoSys(\"b_tag_NP_3\",        histoname_up = \"4j1b_single_top_tW_btag_var_2_up\",      histoname_down = \"4j1b_single_top_tW_btag_var_2_down\"   )\n",
    "single_top_tW.AddNormPlusShapeHistoSys(\"b_tag_NP_4\",        histoname_up = \"4j1b_single_top_tW_btag_var_3_up\",      histoname_down = \"4j1b_single_top_tW_btag_var_3_down\"   )\n",
    "\n",
    "channel.AddSample(single_top_tW)\n",
    "\n",
    "meas.AddChannel(channel)\n",
    "\n",
    "channel_2b = ROOT.RooStats.HistFactory.Channel(\"channel_4j2b_SR\")\n",
    "channel_2b.SetData(\"4j2b_pseudodata\", input_file)\n",
    "channel_2b.SetStatErrorConfig(0.001, \"Gaussian\")\n",
    "\n",
    "ttbar = AGC_Sample(\"ttbar\", \"4j2b_ttbar\", input_file)\n",
    "ttbar.AddOverallSys(lumi_systematics)\n",
    "ttbar.SetSystematicsInputFile(input_file)\n",
    "ttbar.ActivateStatError()\n",
    "ttbar.AddNormPlusShapeHistoSys(\"ME_variation\",      histoname_up = \"4j2b_ttbar_ME_var\"                                                          )\n",
    "ttbar.AddNormPlusShapeHistoSys(\"PS_variation\",      histoname_up = \"4j2b_ttbar_PS_var\"                                                          )\n",
    "ttbar.AddNormPlusShapeHistoSys(\"tt_scale_var\",      histoname_up = \"4j2b_ttbar_scaleup\",        histoname_down = \"4j2b_ttbar_scaledown\"         )\n",
    "ttbar.AddNormPlusShapeHistoSys(\"jet_energy_scale\",  histoname_up = \"4j2b_ttbar_pt_scale_up\"                                                     )\n",
    "ttbar.AddNormPlusShapeHistoSys(\"jet_energy_res\",    histoname_up = \"4j2b_ttbar_pt_res_up\"                                                       )\n",
    "ttbar.AddNormPlusShapeHistoSys(\"b_tag_NP_1\",        histoname_up = \"4j2b_ttbar_btag_var_0_up\",  histoname_down = \"4j2b_ttbar_btag_var_0_down\"   )\n",
    "ttbar.AddNormPlusShapeHistoSys(\"b_tag_NP_2\",        histoname_up = \"4j2b_ttbar_btag_var_1_up\",  histoname_down = \"4j2b_ttbar_btag_var_1_down\"   )\n",
    "ttbar.AddNormPlusShapeHistoSys(\"b_tag_NP_3\",        histoname_up = \"4j2b_ttbar_btag_var_2_up\",  histoname_down = \"4j2b_ttbar_btag_var_2_down\"   )\n",
    "ttbar.AddNormPlusShapeHistoSys(\"b_tag_NP_4\",        histoname_up = \"4j2b_ttbar_btag_var_3_up\",  histoname_down = \"4j2b_ttbar_btag_var_3_down\"   )\n",
    "ttbar.AddNormFactor(\"ttbar_norm\", 1, 0, 10)\n",
    "channel_2b.AddSample(ttbar)\n",
    "\n",
    "wjets = AGC_Sample(\"wjets\", \"4j2b_wjets\", input_file)\n",
    "wjets.SetSystematicsInputFile(input_file)\n",
    "wjets.ActivateStatError()\n",
    "wjets.AddOverallSys(lumi_systematics)\n",
    "wjets.AddNormPlusShapeHistoSys(\"jet_energy_scale\",      histoname_up = \"4j2b_wjets_pt_scale_up\"                                                     )\n",
    "wjets.AddNormPlusShapeHistoSys(\"jet_energy_res\",        histoname_up = \"4j2b_wjets_pt_res_up\"                                                       )\n",
    "wjets.AddNormPlusShapeHistoSys(\"b_tag_NP_1\",            histoname_up = \"4j2b_wjets_btag_var_0_up\",  histoname_down = \"4j2b_wjets_btag_var_0_down\"   )\n",
    "wjets.AddNormPlusShapeHistoSys(\"b_tag_NP_2\",            histoname_up = \"4j2b_wjets_btag_var_1_up\",  histoname_down = \"4j2b_wjets_btag_var_1_down\"   )\n",
    "wjets.AddNormPlusShapeHistoSys(\"b_tag_NP_3\",            histoname_up = \"4j2b_wjets_btag_var_2_up\",  histoname_down = \"4j2b_wjets_btag_var_2_down\"   )\n",
    "wjets.AddNormPlusShapeHistoSys(\"b_tag_NP_4\",            histoname_up = \"4j2b_wjets_btag_var_3_up\",  histoname_down = \"4j2b_wjets_btag_var_3_down\"   )\n",
    "wjets.AddNormPlusShapeHistoSys(\"w_plus_jets_scale_var\", histoname_up = \"4j2b_wjets_scale_var_up\",   histoname_down = \"4j2b_wjets_scale_var_down\"    )\n",
    "channel_2b.AddSample(wjets)\n",
    "\n",
    "single_top_s_chan = AGC_Sample(\"single_top_s\", \"4j2b_single_top_s_chan\", input_file)\n",
    "single_top_s_chan.SetSystematicsInputFile(input_file)\n",
    "single_top_s_chan.ActivateStatError()\n",
    "single_top_s_chan.AddOverallSys(lumi_systematics)\n",
    "single_top_s_chan.AddNormPlusShapeHistoSys(\"jet_energy_scale\",  histoname_up = \"4j2b_single_top_s_chan_pt_scale_up\"                                                                 )\n",
    "single_top_s_chan.AddNormPlusShapeHistoSys(\"jet_energy_res\",    histoname_up = \"4j2b_single_top_s_chan_pt_res_up\"                                                                   )\n",
    "single_top_s_chan.AddNormPlusShapeHistoSys(\"b_tag_NP_1\",        histoname_up = \"4j2b_single_top_s_chan_btag_var_0_up\",  histoname_down = \"4j2b_single_top_s_chan_btag_var_0_down\"   )\n",
    "single_top_s_chan.AddNormPlusShapeHistoSys(\"b_tag_NP_2\",        histoname_up = \"4j2b_single_top_s_chan_btag_var_1_up\",  histoname_down = \"4j2b_single_top_s_chan_btag_var_1_down\"   )\n",
    "single_top_s_chan.AddNormPlusShapeHistoSys(\"b_tag_NP_3\",        histoname_up = \"4j2b_single_top_s_chan_btag_var_2_up\",  histoname_down = \"4j2b_single_top_s_chan_btag_var_2_down\"   )\n",
    "single_top_s_chan.AddNormPlusShapeHistoSys(\"b_tag_NP_4\",        histoname_up = \"4j2b_single_top_s_chan_btag_var_3_up\",  histoname_down = \"4j2b_single_top_s_chan_btag_var_3_down\"   )\n",
    "channel_2b.AddSample(single_top_s_chan)\n",
    "\n",
    "single_top_t_chan = AGC_Sample(\"single_top_t\", \"4j2b_single_top_t_chan\", input_file)\n",
    "single_top_t_chan.SetSystematicsInputFile(input_file)\n",
    "single_top_t_chan.ActivateStatError()\n",
    "single_top_t_chan.AddOverallSys(lumi_systematics)\n",
    "single_top_t_chan.AddNormPlusShapeHistoSys(\"jet_energy_scale\",  histoname_up = \"4j2b_single_top_t_chan_pt_scale_up\"                                                                 )\n",
    "single_top_t_chan.AddNormPlusShapeHistoSys(\"jet_energy_res\",    histoname_up = \"4j2b_single_top_t_chan_pt_res_up\"                                                                   )\n",
    "single_top_t_chan.AddNormPlusShapeHistoSys(\"b_tag_NP_1\",        histoname_up = \"4j2b_single_top_t_chan_btag_var_0_up\",  histoname_down = \"4j2b_single_top_t_chan_btag_var_0_down\"   )\n",
    "single_top_t_chan.AddNormPlusShapeHistoSys(\"b_tag_NP_2\",        histoname_up = \"4j2b_single_top_t_chan_btag_var_1_up\",  histoname_down = \"4j2b_single_top_t_chan_btag_var_1_down\"   )\n",
    "single_top_t_chan.AddNormPlusShapeHistoSys(\"b_tag_NP_3\",        histoname_up = \"4j2b_single_top_t_chan_btag_var_2_up\",  histoname_down = \"4j2b_single_top_t_chan_btag_var_2_down\"   )\n",
    "single_top_t_chan.AddNormPlusShapeHistoSys(\"b_tag_NP_4\",        histoname_up = \"4j2b_single_top_t_chan_btag_var_3_up\",  histoname_down = \"4j2b_single_top_t_chan_btag_var_3_down\"   )\n",
    "\n",
    "channel_2b.AddSample(single_top_t_chan)\n",
    "\n",
    "single_top_tW = AGC_Sample(\"single_top_tW\", \"4j2b_single_top_tW\", input_file)\n",
    "single_top_tW.ActivateStatError()\n",
    "single_top_tW.SetSystematicsInputFile(input_file)\n",
    "single_top_tW.AddOverallSys(lumi_systematics)\n",
    "single_top_tW.AddNormPlusShapeHistoSys(\"jet_energy_scale\",  histoname_up = \"4j2b_single_top_tW_pt_scale_up\"                                                             )\n",
    "single_top_tW.AddNormPlusShapeHistoSys(\"jet_energy_res\",    histoname_up = \"4j2b_single_top_tW_pt_res_up\"                                                               )\n",
    "single_top_tW.AddNormPlusShapeHistoSys(\"b_tag_NP_1\",        histoname_up = \"4j2b_single_top_tW_btag_var_0_up\",  histoname_down = \"4j2b_single_top_tW_btag_var_0_down\"   )\n",
    "single_top_tW.AddNormPlusShapeHistoSys(\"b_tag_NP_2\",        histoname_up = \"4j2b_single_top_tW_btag_var_1_up\",  histoname_down = \"4j2b_single_top_tW_btag_var_1_down\"   )\n",
    "single_top_tW.AddNormPlusShapeHistoSys(\"b_tag_NP_3\",        histoname_up = \"4j2b_single_top_tW_btag_var_2_up\",  histoname_down = \"4j2b_single_top_tW_btag_var_2_down\"   )\n",
    "single_top_tW.AddNormPlusShapeHistoSys(\"b_tag_NP_4\",        histoname_up = \"4j2b_single_top_tW_btag_var_3_up\",  histoname_down = \"4j2b_single_top_tW_btag_var_3_down\"   )\n",
    "\n",
    "channel_2b.AddSample(single_top_tW)\n",
    "meas.AddChannel(channel_2b)"
   ]
  },
  {
   "cell_type": "code",
   "execution_count": 2,
   "metadata": {},
   "outputs": [
    {
     "ename": "NameError",
     "evalue": "name 'meas' is not defined",
     "output_type": "error",
     "traceback": [
      "\u001b[0;31m---------------------------------------------------------------------------\u001b[0m",
      "\u001b[0;31mNameError\u001b[0m                                 Traceback (most recent call last)",
      "Cell \u001b[0;32mIn[2], line 1\u001b[0m\n\u001b[0;32m----> 1\u001b[0m \u001b[43mmeas\u001b[49m\u001b[38;5;241m.\u001b[39mSetPOI(\u001b[38;5;124m\"\u001b[39m\u001b[38;5;124mttbar_norm\u001b[39m\u001b[38;5;124m\"\u001b[39m)\n\u001b[1;32m      2\u001b[0m meas\u001b[38;5;241m.\u001b[39mCollectHistograms()\n\u001b[1;32m      3\u001b[0m meas\u001b[38;5;241m.\u001b[39mSetExportOnly(\u001b[38;5;28;01mTrue\u001b[39;00m)\n",
      "\u001b[0;31mNameError\u001b[0m: name 'meas' is not defined"
     ]
    }
   ],
   "source": [
    "meas.SetPOI(\"ttbar_norm\")\n",
    "meas.CollectHistograms()\n",
    "meas.SetExportOnly(True)"
   ]
  },
  {
   "cell_type": "code",
   "execution_count": null,
   "metadata": {},
   "outputs": [],
   "source": [
    "ws = ROOT.RooStats.HistFactory.MakeModelAndMeasurementFast(meas)\n",
    "\n",
    "# Retrieve the ModelConfig\n",
    "modelConfig = ws.obj(\"ModelConfig\")\n",
    "\n",
    "\n",
    "# Extract the PDF and global observables\n",
    "pdf = modelConfig.GetPdf()\n",
    "globalObservables = ROOT.RooArgSet(modelConfig.GetGlobalObservables())\n",
    "\n",
    "\n",
    "# Perform the fit\n",
    "result = pdf.fitTo(ws.data(\"obsData\"), ROOT.RooFit.Save(), ROOT.RooFit.PrintLevel(-1), ROOT.RooFit.GlobalObservables(globalObservables))\n",
    "\n",
    "# Print the fit result\n",
    "result.Print()"
   ]
  }
 ],
 "metadata": {
  "kernelspec": {
   "display_name": "Python 3",
   "language": "python",
   "name": "python3"
  },
  "language_info": {
   "codemirror_mode": {
    "name": "ipython",
    "version": 3
   },
   "file_extension": ".py",
   "mimetype": "text/x-python",
   "name": "python",
   "nbconvert_exporter": "python",
   "pygments_lexer": "ipython3",
   "version": "3.12.4"
  }
 },
 "nbformat": 4,
 "nbformat_minor": 2
}
